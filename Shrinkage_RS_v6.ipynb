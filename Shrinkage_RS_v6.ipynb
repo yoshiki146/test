{
 "cells": [
  {
   "cell_type": "code",
   "execution_count": 1,
   "metadata": {},
   "outputs": [],
   "source": [
    "import pandas as pd\n",
    "import numpy as np\n",
    "\n",
    "import matplotlib.pyplot as plt\n",
    "import seaborn as sns\n",
    "sns.set_style(\"darkgrid\")\n",
    "\n",
    "from tqdm import tqdm\n",
    "import pickle"
   ]
  },
  {
   "cell_type": "code",
   "execution_count": 2,
   "metadata": {},
   "outputs": [],
   "source": [
    "from RegimeSwitch import hmm_states, calc_rs_params\n",
    "from MeanShrinkage import bayes_stein_shrinkage\n",
    "from CovShrinkage import LW_common_diag, LW_common_corr, LW_sample_diag, LW_common_vcov, denard_gcvc\n",
    "from MVO import calc_mvo\n",
    "from PerfStats import summary_stats"
   ]
  },
  {
   "cell_type": "code",
   "execution_count": 3,
   "metadata": {},
   "outputs": [],
   "source": [
    "with open(\"dat/bbg/d_bbg_ret.pickle\", \"rb\") as f:\n",
    "    d_bbg_ret = pickle.load(f)\n",
    "ret_jpy = d_bbg_ret[\"ret_jpy\"]\n",
    "ret_ir = d_bbg_ret[\"ret_ir\"]"
   ]
  },
  {
   "cell_type": "code",
   "execution_count": 4,
   "metadata": {},
   "outputs": [],
   "source": [
    "ret_jpy_deg = ret_jpy.copy()\n",
    "ret_jpy_deg.columns = ret_jpy.columns.get_level_values(1)\n",
    "\n",
    "# ret_jpy_ex_cash = ret_jpy.loc[:, [c!=\"Cash\" for c in ret_jpy.columns.get_level_values(3)]]\n",
    "# ret_jpy_ex_cash_deg = ret_jpy_ex_cash.copy()\n",
    "# ret_jpy_ex_cash_deg.columns = ret_jpy_ex_cash.columns.get_level_values(1)"
   ]
  },
  {
   "cell_type": "code",
   "execution_count": 5,
   "metadata": {},
   "outputs": [],
   "source": [
    "RISK_TOLERANCE = .25\n",
    "WINDOW = 36"
   ]
  },
  {
   "cell_type": "code",
   "execution_count": 6,
   "metadata": {},
   "outputs": [],
   "source": [
    "idx_dat = pd.read_csv(\"dat/bbg/acwi_wgbi.csv\", index_col=0, skiprows=5, parse_dates=True)\\\n",
    "                .groupby(pd.Grouper(freq=\"BM\")).last()\n",
    "idx_ret = idx_dat.pct_change().dropna()"
   ]
  },
  {
   "cell_type": "markdown",
   "metadata": {},
   "source": [
    "### Physical Asset and Currency Hedge"
   ]
  },
  {
   "cell_type": "code",
   "execution_count": 7,
   "metadata": {},
   "outputs": [],
   "source": [
    "PARAM_COMBS = {\n",
    "    ## Low Risk appetite\n",
    "    # Sample Mean\n",
    "    \"Sample-Sample\": [\"sample\", \"sample\"], \n",
    "    \"Sample-LWCD\": [\"sample\", \"lwcd\"], \n",
    "    \"Sample-LWCC\": [\"sample\", \"lwcc\"], \n",
    "    \"Sample-GCVC\": [\"sample\", \"gcvc\"], \n",
    "    \"Sample-RS\": [\"sample\", \"regime_switch\"], \n",
    "    # Bayes-Stein\n",
    "    \"BS-Sample\": [\"bayes-stein\", \"sample\"], \n",
    "    \"BS-LWCD\": [\"bayes-stein\", \"lwcd\"], \n",
    "    \"BS-LWCC\": [\"bayes-stein\", \"lwcc\"], \n",
    "    \"BS-GCVC\": [\"bayes-stein\", \"gcvc\"], \n",
    "    \"BS-RS\": [\"bayes-stein\", \"regime_switch\"], \n",
    "    # Regime Switch\n",
    "    \"RS-Sample\": [\"regime_switch\", \"sample\"], \n",
    "    \"RS-LWCD\": [\"regime_switch\", \"lwcd\"], \n",
    "    \"RS-LWCC\": [\"regime_switch\", \"lwcc\"], \n",
    "    \"RS-GCVC\": [\"regime_switch\", \"gcvc\"], \n",
    "    \"RS-RS\": [\"regime_switch\", \"regime_switch\"], \n",
    "}"
   ]
  },
  {
   "cell_type": "code",
   "execution_count": 8,
   "metadata": {},
   "outputs": [
    {
     "name": "stderr",
     "output_type": "stream",
     "text": [
      "100%|██████████| 249/249 [02:27<00:00,  1.69it/s]\n"
     ]
    }
   ],
   "source": [
    "eret_dict = {}; cov_dict = {}; shrinkage_intensity_dict = {}\n",
    "wgt_dict = {}; attr_dict = {}; pfret_dict = {}\n",
    "\n",
    "# asset_ub = [int(fx_tf!=\"Cash\") for fx_tf in ret_jpy.columns.get_level_values(3)] # ub=1 for physical asset, 0 for fx\n",
    "# asset_lb = [int(fx_tf!=\"Cash\")-1 for fx_tf in ret_jpy.columns.get_level_values(3)] # lb=0 for physical asset, -1 for fx\n",
    "# currency_group = pd.get_dummies(ret_jpy.columns.get_level_values(2)).values.T\n",
    "# sum_one_asset = asset_ub # use asset_ub because 1 corresponds to physical assets and 0 to fx\n",
    "# sum_one_asset = [int(fx_tf!=\"Cash\") for fx_tf in ret_jpy.columns.get_level_values(3)]\n",
    "# w_start = ret_jpy.index[WINDOW-1]\n",
    "\n",
    "\n",
    "asset_ub = [1]*ret_jpy.shape[1]\n",
    "asset_lb = [0]*ret_jpy.shape[1]\n",
    "sum_one_asset = asset_ub\n",
    "w_start = ret_jpy.index[WINDOW-1]\n",
    "\n",
    "\n",
    "for dt in tqdm(ret_jpy.loc[w_start:,:].index):\n",
    "    ret_jpy_win = ret_jpy.loc[:dt,:].tail(WINDOW)\n",
    "    # params\n",
    "    eret_bs_win = bayes_stein_shrinkage(ret_jpy_win)\n",
    "    lwcd_win = LW_common_diag(ret_jpy_win)\n",
    "    lwcc_win = LW_common_corr(ret_jpy_win)\n",
    "    gcvc_win = denard_gcvc(ret_jpy_win, multi_class=True, group_level=3) # level_three for assetclass grp\n",
    "    regime_switch_win = calc_rs_params(asset_return=ret_jpy_win, factor_return=idx_ret, hmm_window=\"expanding\")\n",
    "\n",
    "    # mean\n",
    "    eret_dict[dt] = {\n",
    "        \"sample\": ret_jpy_win.mean(),\n",
    "        \"bayes-stein\": eret_bs_win[1],\n",
    "        \"regime_switch\": regime_switch_win[0]\n",
    "    }\n",
    "\n",
    "    # cov\n",
    "    cov_dict[dt] = {\n",
    "        \"sample\": ret_jpy_win.cov(),\n",
    "        \"lwcd\": lwcd_win[1],\n",
    "        \"lwcc\": lwcc_win[1],\n",
    "        \"gcvc\": gcvc_win[1],\n",
    "        \"regime_switch\": regime_switch_win[1]\n",
    "    }\n",
    "\n",
    "    # method prop\n",
    "    shrinkage_intensity_dict[dt] = {\n",
    "        \"bayes-stein\": eret_bs_win[0],\n",
    "        \"lwcd\": lwcd_win[0],\n",
    "        \"lwcc\": lwcc_win[0],\n",
    "        \"gcvc\": gcvc_win[0]\n",
    "    }\n",
    "\n",
    "\n",
    "    for k,v in PARAM_COMBS.items():\n",
    "        wgt_dict[dt, k] = calc_mvo(eret_dict[dt][v[0]], cov_dict[dt][v[1]], risk_tolerance=RISK_TOLERANCE,\n",
    "                                   asset_weight_upper_bound=asset_ub, asset_weight_lower_bound=asset_lb, \n",
    "                                   sum_one_asset=sum_one_asset)\n",
    "\n",
    "wgt_mvo = pd.concat(wgt_dict, axis=0, names=[\"Date\", \"Strat\"]).unstack([\"Strat\", \"Ticker\", \"Currency\", \"AssetClass\", \"Name\"])\n",
    "attr = wgt_mvo.shift().mul(ret_jpy_deg).dropna()\n",
    "pfret = attr.groupby(axis=1, level=0).sum().dropna()"
   ]
  },
  {
   "cell_type": "code",
   "execution_count": 9,
   "metadata": {},
   "outputs": [],
   "source": [
    "ShrinkageRS_mvo_dict = {\n",
    "    \"eret\": eret_dict,\n",
    "    \"cov\":cov_dict,\n",
    "    \"shrinkage\": shrinkage_intensity_dict,\n",
    "    \"wgt\": wgt_mvo,\n",
    "    \"attr\": attr,\n",
    "    \"ret\": pfret\n",
    "}\n",
    "\n",
    "with open(\"output/ShrinkageRS/ShrinkageRS_mvo_dict_jpy.pickle\", \"wb\") as f:\n",
    "    pickle.dump(ShrinkageRS_mvo_dict, f)"
   ]
  },
  {
   "cell_type": "code",
   "execution_count": null,
   "metadata": {},
   "outputs": [],
   "source": []
  },
  {
   "cell_type": "code",
   "execution_count": null,
   "metadata": {},
   "outputs": [],
   "source": []
  }
 ],
 "metadata": {
  "kernelspec": {
   "display_name": "Python 3",
   "language": "python",
   "name": "python3"
  },
  "language_info": {
   "codemirror_mode": {
    "name": "ipython",
    "version": 3
   },
   "file_extension": ".py",
   "mimetype": "text/x-python",
   "name": "python",
   "nbconvert_exporter": "python",
   "pygments_lexer": "ipython3",
   "version": "3.8.5"
  }
 },
 "nbformat": 4,
 "nbformat_minor": 4
}
